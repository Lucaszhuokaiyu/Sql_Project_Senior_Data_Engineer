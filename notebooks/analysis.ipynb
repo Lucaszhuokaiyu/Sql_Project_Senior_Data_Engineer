{
 "cells": [
  {
   "cell_type": "code",
   "execution_count": 8,
   "id": "09c16f96",
   "metadata": {},
   "outputs": [],
   "source": [
    "import os\n",
    "from sqlalchemy import create_engine\n",
    "import pandas as pd\n",
    "\n",
    "# Set credentials \n",
    "os.environ['PG_HOST'] = 'isba-dev-02.cmb4w8cmqb26.us-east-1.rds.amazonaws.com'\n",
    "os.environ['PG_USER'] = 'postgres'\n",
    "os.environ['PG_PASSWORD'] = 'isba_4715'\n",
    "os.environ['PG_DB'] = 'data_engineer_project'\n",
    "\n",
    "host = os.getenv('PG_HOST')\n",
    "user = os.getenv('PG_USER')\n",
    "password = os.getenv('PG_PASSWORD')\n",
    "database = os.getenv('PG_DB')\n",
    "\n",
    "connection_string = f\"postgresql+psycopg2://{user}:{password}@{host}/{database}\"\n",
    "engine = create_engine(connection_string)\n",
    "pd.set_option('display.max_rows', None)"
   ]
  },
  {
   "cell_type": "markdown",
   "id": "ad0fcaf2",
   "metadata": {},
   "source": [
    "### Business Question: How do win/loss ratios vary between veteran, inactive, and fresh players?"
   ]
  },
  {
   "cell_type": "code",
   "execution_count": null,
   "id": "b83f3afe",
   "metadata": {},
   "outputs": [],
   "source": [
    "sql_query = '''\n",
    "WITH categorized_players AS (\n",
    "    SELECT\n",
    "        CASE\n",
    "            WHEN \"freshBlood\" = TRUE THEN 'New Player'\n",
    "            ELSE 'Experienced Player'\n",
    "        END AS player_type,\n",
    "        wins,\n",
    "        losses\n",
    "    FROM raw.\"Gold_Ranked_Players\"\n",
    "),\n",
    "aggregated_stats AS (\n",
    "    SELECT\n",
    "        player_type,\n",
    "        COUNT(*) AS player_count,\n",
    "        ROUND(AVG(wins), 2) AS avg_wins,\n",
    "        ROUND(AVG(losses), 2) AS avg_losses\n",
    "    FROM categorized_players\n",
    "    GROUP BY player_type\n",
    ")\n",
    "SELECT * FROM aggregated_stats\n",
    "ORDER BY player_type;\n",
    "'''\n",
    "\n",
    "\n",
    "# Execute\n",
    "query_result = pd.read_sql(sql_query, engine)\n",
    "query_result"
   ]
  }
 ],
 "metadata": {
  "kernelspec": {
   "display_name": "Python 3",
   "language": "python",
   "name": "python3"
  },
  "language_info": {
   "codemirror_mode": {
    "name": "ipython",
    "version": 3
   },
   "file_extension": ".py",
   "mimetype": "text/x-python",
   "name": "python",
   "nbconvert_exporter": "python",
   "pygments_lexer": "ipython3",
   "version": "3.12.1"
  }
 },
 "nbformat": 4,
 "nbformat_minor": 5
}
