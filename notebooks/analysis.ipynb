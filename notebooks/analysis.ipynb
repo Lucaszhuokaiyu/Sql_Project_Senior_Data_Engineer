{
 "cells": [
  {
   "cell_type": "code",
   "execution_count": 4,
   "id": "09c16f96",
   "metadata": {},
   "outputs": [
    {
     "data": {
      "text/html": [
       "<div>\n",
       "<style scoped>\n",
       "    .dataframe tbody tr th:only-of-type {\n",
       "        vertical-align: middle;\n",
       "    }\n",
       "\n",
       "    .dataframe tbody tr th {\n",
       "        vertical-align: top;\n",
       "    }\n",
       "\n",
       "    .dataframe thead th {\n",
       "        text-align: right;\n",
       "    }\n",
       "</style>\n",
       "<table border=\"1\" class=\"dataframe\">\n",
       "  <thead>\n",
       "    <tr style=\"text-align: right;\">\n",
       "      <th></th>\n",
       "      <th>count</th>\n",
       "    </tr>\n",
       "  </thead>\n",
       "  <tbody>\n",
       "    <tr>\n",
       "      <th>0</th>\n",
       "      <td>820</td>\n",
       "    </tr>\n",
       "  </tbody>\n",
       "</table>\n",
       "</div>"
      ],
      "text/plain": [
       "   count\n",
       "0    820"
      ]
     },
     "execution_count": 4,
     "metadata": {},
     "output_type": "execute_result"
    }
   ],
   "source": [
    "import os\n",
    "from sqlalchemy import create_engine\n",
    "import pandas as pd\n",
    "\n",
    "# Set credentials \n",
    "os.environ['PG_HOST'] = 'isba-dev-02.cmb4w8cmqb26.us-east-1.rds.amazonaws.com'\n",
    "os.environ['PG_USER'] = 'postgres'\n",
    "os.environ['PG_PASSWORD'] = 'isba_4715'\n",
    "os.environ['PG_DB'] = 'data_engineer_project'\n",
    "\n",
    "host = os.getenv('PG_HOST')\n",
    "user = os.getenv('PG_USER')\n",
    "password = os.getenv('PG_PASSWORD')\n",
    "database = os.getenv('PG_DB')\n",
    "\n",
    "connection_string = f\"postgresql+psycopg2://{user}:{password}@{host}/{database}\"\n",
    "engine = create_engine(connection_string)\n",
    "pd.set_option('display.max_rows', None)\n",
    "\n",
    "test_query = '''\n",
    "SELECT COUNT(*) FROM raw.\"Gold_Ranked_Players\"\n",
    "limit 10;\n",
    "'''\n",
    "pd.read_sql(test_query, engine)"
   ]
  },
  {
   "cell_type": "markdown",
   "id": "ad0fcaf2",
   "metadata": {},
   "source": [
    "### Business Question: How do win/loss ratios vary between veteran, inactive, and fresh players?"
   ]
  },
  {
   "cell_type": "code",
   "execution_count": 6,
   "id": "b83f3afe",
   "metadata": {},
   "outputs": [
    {
     "data": {
      "text/html": [
       "<div>\n",
       "<style scoped>\n",
       "    .dataframe tbody tr th:only-of-type {\n",
       "        vertical-align: middle;\n",
       "    }\n",
       "\n",
       "    .dataframe tbody tr th {\n",
       "        vertical-align: top;\n",
       "    }\n",
       "\n",
       "    .dataframe thead th {\n",
       "        text-align: right;\n",
       "    }\n",
       "</style>\n",
       "<table border=\"1\" class=\"dataframe\">\n",
       "  <thead>\n",
       "    <tr style=\"text-align: right;\">\n",
       "      <th></th>\n",
       "      <th>player_type</th>\n",
       "      <th>player_count</th>\n",
       "      <th>avg_wins</th>\n",
       "      <th>avg_losses</th>\n",
       "    </tr>\n",
       "  </thead>\n",
       "  <tbody>\n",
       "    <tr>\n",
       "      <th>0</th>\n",
       "      <td>Experienced Player</td>\n",
       "      <td>760</td>\n",
       "      <td>34.34</td>\n",
       "      <td>32.99</td>\n",
       "    </tr>\n",
       "    <tr>\n",
       "      <th>1</th>\n",
       "      <td>New Player</td>\n",
       "      <td>60</td>\n",
       "      <td>64.53</td>\n",
       "      <td>63.23</td>\n",
       "    </tr>\n",
       "  </tbody>\n",
       "</table>\n",
       "</div>"
      ],
      "text/plain": [
       "          player_type  player_count  avg_wins  avg_losses\n",
       "0  Experienced Player           760     34.34       32.99\n",
       "1          New Player            60     64.53       63.23"
      ]
     },
     "execution_count": 6,
     "metadata": {},
     "output_type": "execute_result"
    }
   ],
   "source": [
    "sql_query = '''\n",
    "WITH categorized_players AS (\n",
    "    SELECT\n",
    "        CASE\n",
    "            WHEN \"freshBlood\" = 'TRUE' THEN 'New Player'\n",
    "            ELSE 'Experienced Player'\n",
    "        END AS player_type,\n",
    "        wins,\n",
    "        losses\n",
    "    FROM raw.\"Gold_Ranked_Players\"\n",
    "),\n",
    "aggregated_stats AS (\n",
    "    SELECT\n",
    "        player_type,\n",
    "        COUNT(*) AS player_count,\n",
    "        ROUND(AVG(wins), 2) AS avg_wins,\n",
    "        ROUND(AVG(losses), 2) AS avg_losses\n",
    "    FROM categorized_players\n",
    "    GROUP BY player_type\n",
    ")\n",
    "SELECT * FROM aggregated_stats\n",
    "ORDER BY player_type;\n",
    "'''\n",
    "\n",
    "\n",
    "# Execute\n",
    "query_result = pd.read_sql(sql_query, engine)\n",
    "query_result"
   ]
  }
 ],
 "metadata": {
  "kernelspec": {
   "display_name": "Python 3",
   "language": "python",
   "name": "python3"
  },
  "language_info": {
   "codemirror_mode": {
    "name": "ipython",
    "version": 3
   },
   "file_extension": ".py",
   "mimetype": "text/x-python",
   "name": "python",
   "nbconvert_exporter": "python",
   "pygments_lexer": "ipython3",
   "version": "3.12.1"
  }
 },
 "nbformat": 4,
 "nbformat_minor": 5
}
