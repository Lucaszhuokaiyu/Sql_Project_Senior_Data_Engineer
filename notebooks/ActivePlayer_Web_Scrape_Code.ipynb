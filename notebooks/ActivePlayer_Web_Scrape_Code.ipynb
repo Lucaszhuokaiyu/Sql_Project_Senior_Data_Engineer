{
 "cells": [
  {
   "cell_type": "code",
   "execution_count": 1,
   "metadata": {},
   "outputs": [],
   "source": [
    "import requests\n",
    "from bs4 import BeautifulSoup\n",
    "import pandas as pd"
   ]
  },
  {
   "cell_type": "code",
   "execution_count": 2,
   "metadata": {},
   "outputs": [],
   "source": [
    "\n",
    "# URL of the page containing the table\n",
    "url = \"https://activeplayer.io/league-of-legends/\""
   ]
  },
  {
   "cell_type": "code",
   "execution_count": 3,
   "metadata": {},
   "outputs": [],
   "source": [
    "headers = {\n",
    "    \"User-Agent\": \"Mozilla/5.0\"  # prevent 403 forbidden error, it pretends I'm a real browser\n",
    "}"
   ]
  },
  {
   "cell_type": "code",
   "execution_count": 4,
   "metadata": {},
   "outputs": [],
   "source": [
    "# Send a GET request to the URL\n",
    "response = requests.get(url, headers=headers)"
   ]
  },
  {
   "cell_type": "code",
   "execution_count": 5,
   "metadata": {},
   "outputs": [
    {
     "data": {
      "text/plain": [
       "<Response [200]>"
      ]
     },
     "execution_count": 5,
     "metadata": {},
     "output_type": "execute_result"
    }
   ],
   "source": [
    "# Check for validity\n",
    "response"
   ]
  },
  {
   "cell_type": "code",
   "execution_count": 6,
   "metadata": {},
   "outputs": [],
   "source": [
    "# Parse the HTML content using BeautifulSoup\n",
    "soup = BeautifulSoup(response.text, 'html.parser')"
   ]
  },
  {
   "cell_type": "code",
   "execution_count": 7,
   "metadata": {},
   "outputs": [],
   "source": [
    "# Find the table by its ID\n",
    "table = soup.find(\"table\", {\"id\": \"table_3\"})"
   ]
  },
  {
   "cell_type": "code",
   "execution_count": 8,
   "metadata": {},
   "outputs": [
    {
     "name": "stdout",
     "output_type": "stream",
     "text": [
      "Month: Last 30 Days | Average Monthly Players: 45,542,792 | Monthly Gain/Loss: -1,725,285 | Peak Players in a Day: 12,296,554\n",
      "Month: March 2025 | Average Monthly Players: 47,268,076 | Monthly Gain/Loss: -477,455 | Peak Players in a Day: 12,762,381\n",
      "Month: February 2025 | Average Monthly Players: 47,745,532 | Monthly Gain/Loss: -915,033 | Peak Players in a Day: 9,708,258\n",
      "Month: January 2025 | Average Monthly Players: 48,660,564 | Monthly Gain/Loss: 2,480,000 | Peak Players in a Day: 9,894,315\n",
      "Month: December 2024 | Average Monthly Players: 46,180,564 | Monthly Gain/Loss: -1,648,862 | Peak Players in a Day: 9,390,048\n",
      "Month: November 2024 | Average Monthly Players: 47,829,426 | Monthly Gain/Loss: 887,484 | Peak Players in a Day: 9,725,317\n",
      "Month: October 2024 | Average Monthly Players: 46,941,942 | Monthly Gain/Loss: -1,026,525 | Peak Players in a Day: 9,544,862\n",
      "Month: September 2024 | Average Monthly Players: 47,968,467 | Monthly Gain/Loss: 1,238,348 | Peak Players in a Day: 9,753,588\n",
      "Month: August 2024 | Average Monthly Players: 46,730,119 | Monthly Gain/Loss: -259,921 | Peak Players in a Day: 9,501,791\n",
      "Month: July 2024 | Average Monthly Players: 46,990,040 | Monthly Gain/Loss: 1,632,859 | Peak Players in a Day: 9,554,641\n",
      "Month: June 2024 | Average Monthly Players: 45,357,181 | Monthly Gain/Loss: -2,690,680 | Peak Players in a Day: 9,222,627\n",
      "Month: May 2024 | Average Monthly Players: 48,047,862 | Monthly Gain/Loss: 1,660,662 | Peak Players in a Day: 9,769,732\n",
      "Month: April 2024 | Average Monthly Players: 46,387,200 | Monthly Gain/Loss: -1,140,669 | Peak Players in a Day: 9,432,064\n",
      "Month: March 2024 | Average Monthly Players: 47,527,869 | Monthly Gain/Loss: -3,267,480 | Peak Players in a Day: 9,664,000\n",
      "Month: February 2024 | Average Monthly Players: 50,795,348 | Monthly Gain/Loss: -710,322 | Peak Players in a Day: 10,328,388\n",
      "Month: January 2024 | Average Monthly Players: 51,505,670 | Monthly Gain/Loss: 2,517,968 | Peak Players in a Day: 10,472,820\n",
      "Month: December 2023 | Average Monthly Players: 48,987,702 | Monthly Gain/Loss: 3,317,126 | Peak Players in a Day: 9,960,833\n",
      "Month: November 2023 | Average Monthly Players: 45,670,576 | Monthly Gain/Loss: -2,403,715 | Peak Players in a Day: 9,286,350\n",
      "Month: October 2023 | Average Monthly Players: 48,074,291 | Monthly Gain/Loss: -4,123,636 | Peak Players in a Day: 9,775,106\n",
      "Month: September 2023 | Average Monthly Players: 52,197,927 | Monthly Gain/Loss: -2,921,320 | Peak Players in a Day: 10,613,578\n",
      "Month: August 2023 | Average Monthly Players: 55,119,247 | Monthly Gain/Loss: 707,355 | Peak Players in a Day: 11,207,580\n",
      "Month: July 2023 | Average Monthly Players: 54,411,892 | Monthly Gain/Loss: 751,249 | Peak Players in a Day: 11,063,751\n",
      "Month: June 2023 | Average Monthly Players: 53,660,643 | Monthly Gain/Loss: -1,409,803 | Peak Players in a Day: 10,910,998\n",
      "Month: May 2023 | Average Monthly Players: 55,070,447 | Monthly Gain/Loss: -191,205 | Peak Players in a Day: 11,197,658\n",
      "Month: April 2023 | Average Monthly Players: 55,261,652 | Monthly Gain/Loss: 829,645 | Peak Players in a Day: 11,236,536\n",
      "Month: March 2023 | Average Monthly Players: 54,432,008 | Monthly Gain/Loss: 553,327 | Peak Players in a Day: 11,067,842\n",
      "Month: February 2023 | Average Monthly Players: 53,878,681 | Monthly Gain/Loss: -641,798 | Peak Players in a Day: 10,955,332\n",
      "Month: January 2023 | Average Monthly Players: 54,520,479 | Monthly Gain/Loss: 1,058,326 | Peak Players in a Day: 11,085,831\n",
      "Month: December 2022 | Average Monthly Players: 53,462,153 | Monthly Gain/Loss: -530,855 | Peak Players in a Day: 10,870,638\n",
      "Month: November 2022 | Average Monthly Players: 53,993,007 | Monthly Gain/Loss: -334,146 | Peak Players in a Day: 10,978,578\n",
      "Month: October 2022 | Average Monthly Players: 54,327,154 | Monthly Gain/Loss: -69,694 | Peak Players in a Day: 11,046,521\n",
      "Month: September 2022 | Average Monthly Players: 54,396,848 | Monthly Gain/Loss: 350,041 | Peak Players in a Day: 11,060,692\n",
      "Month: August 2022 | Average Monthly Players: 54,046,806 | Monthly Gain/Loss: 80,362 | Peak Players in a Day: 10,989,517\n",
      "Month: July 2022 | Average Monthly Players: 53,966,444 | Monthly Gain/Loss: -494,844 | Peak Players in a Day: 10,973,177\n",
      "Month: June 2022 | Average Monthly Players: 54,461,289 | Monthly Gain/Loss: -601,227 | Peak Players in a Day: 11,073,795\n",
      "Month: May 2022 | Average Monthly Players: 55,062,516 | Monthly Gain/Loss: 210,518 | Peak Players in a Day: 11,196,045\n",
      "Month: April 2022 | Average Monthly Players: 54,851,998 | Monthly Gain/Loss: -340,566 | Peak Players in a Day: 11,153,240\n",
      "Month: March 2022 | Average Monthly Players: 55,192,564 | Monthly Gain/Loss: -807,679 | Peak Players in a Day: 11,222,488\n",
      "Month: February 2022 | Average Monthly Players: 56,000,243 | Monthly Gain/Loss: 809,719 | Peak Players in a Day: 11,386,716\n",
      "Month: January 2022 | Average Monthly Players: 55,190,524 | Monthly Gain/Loss: -602,717 | Peak Players in a Day: 11,222,073\n",
      "Month: December 2021 | Average Monthly Players: 55,793,241 | Monthly Gain/Loss: 1,660,873 | Peak Players in a Day: 11,344,626\n",
      "Month: November 2021 | Average Monthly Players: 54,132,368 | Monthly Gain/Loss: 400,240 | Peak Players in a Day: 11,006,915\n",
      "Month: October 2021 | Average Monthly Players: 53,732,128 | Monthly Gain/Loss: -734,821 | Peak Players in a Day: 10,925,533\n",
      "Month: September 2021 | Average Monthly Players: 54,466,950 | Monthly Gain/Loss: -199,587 | Peak Players in a Day: 11,074,946\n",
      "Month: August 2021 | Average Monthly Players: 54,666,536 | Monthly Gain/Loss: -527,110 | Peak Players in a Day: 11,115,529\n",
      "Month: July 2021 | Average Monthly Players: 55,193,647 | Monthly Gain/Loss: 604,439 | Peak Players in a Day: 11,222,708\n",
      "Month: June 2021 | Average Monthly Players: 54,589,207 | Monthly Gain/Loss: 1,716,687 | Peak Players in a Day: 11,099,805\n",
      "Month: May 2021 | Average Monthly Players: 52,872,521 | Monthly Gain/Loss: 1,103,557 | Peak Players in a Day: 10,750,746\n",
      "Month: April 2021 | Average Monthly Players: 51,768,964 | Monthly Gain/Loss: -648,293 | Peak Players in a Day: 10,526,356\n",
      "Month: March 2021 | Average Monthly Players: 52,417,257 | Monthly Gain/Loss: 1,000,768 | Peak Players in a Day: 10,658,176\n",
      "Month: February 2021 | Average Monthly Players: 51,416,488 | Monthly Gain/Loss: 674,839 | Peak Players in a Day: 10,454,686\n",
      "Month: January 2021 | Average Monthly Players: 50,741,650 | Monthly Gain/Loss: -2,001,176 | Peak Players in a Day: 10,317,469\n",
      "Month: December 2020 | Average Monthly Players: 52,742,826 | Monthly Gain/Loss: 4,290,500 | Peak Players in a Day: 10,724,375\n",
      "Month: November 2020 | Average Monthly Players: 51,198,245 | Monthly Gain/Loss: 23,430,462 | Peak Players in a Day: 10,410,310\n",
      "Month: October 2020 | Average Monthly Players: 42,763,279 | Monthly Gain/Loss: -4,920,299 | Peak Players in a Day: 8,695,200\n",
      "Month: September 2020 | Average Monthly Players: 44,534,587 | Monthly Gain/Loss: -7,360,004 | Peak Players in a Day: 9,055,366\n",
      "Month: August 2020 | Average Monthly Players: 47,184,188 | Monthly Gain/Loss: -3,271,113 | Peak Players in a Day: 9,594,118\n",
      "Month: July 2020 | Average Monthly Players: 48,361,788 | Monthly Gain/Loss: -3,372,281 | Peak Players in a Day: 9,833,564\n",
      "Month: June 2020 | Average Monthly Players: 49,575,810 | Monthly Gain/Loss: -3,476,578 | Peak Players in a Day: 10,080,415\n",
      "Month: May 2020 | Average Monthly Players: 50,827,378 | Monthly Gain/Loss: -13,437,302 | Peak Players in a Day: 10,334,900\n",
      "Month: May 2020 | Average Monthly Players: 55,664,806 | Monthly Gain/Loss: 9,677,250 | Peak Players in a Day: 11,318,511\n",
      "Month: April 2020 | Average Monthly Players: 52,180,996 | Monthly Gain/Loss: 10,396,000 | Peak Players in a Day: 10,610,136\n",
      "Month: March 2020 | Average Monthly Players: 48,438,436 | Monthly Gain/Loss: 3,266,000 | Peak Players in a Day: 9,849,149\n",
      "Month: February 2020 | Average Monthly Players: 47,262,676 | Monthly Gain/Loss: 6,348,000 | Peak Players in a Day: 9,610,078\n",
      "Month: January 2020 | Average Monthly Players: 44,977,396 | Monthly Gain/Loss: 8,925,288 | Peak Players in a Day: 9,145,404\n"
     ]
    }
   ],
   "source": [
    "# Check if the table was found\n",
    "if table:\n",
    "    # Find all rows in the table body\n",
    "    rows = table.find(\"tbody\").find_all(\"tr\")\n",
    "\n",
    "    # Iterate through each row and extract data\n",
    "    for row in rows:\n",
    "        cols = row.find_all(\"td\")\n",
    "        if len(cols) >= 5:\n",
    "            month = cols[0].get_text(strip=True)\n",
    "            avg_monthly_players = cols[1].get_text(strip=True)\n",
    "            monthly_gain_loss = cols[2].get_text(strip=True)\n",
    "            peak_players = cols[4].get_text(strip=True)\n",
    "            print(f\"Month: {month} | Average Monthly Players: {avg_monthly_players} | Monthly Gain/Loss: {monthly_gain_loss} | Peak Players in a Day: {peak_players}\")\n",
    "else:\n",
    "    print(\"Table not found.\")"
   ]
  },
  {
   "cell_type": "code",
   "execution_count": 9,
   "metadata": {},
   "outputs": [],
   "source": [
    "data = []  # Create an empty list to hold extracted and cleaned data"
   ]
  },
  {
   "cell_type": "code",
   "execution_count": 10,
   "metadata": {},
   "outputs": [],
   "source": [
    "# Loop through each row of the HTML table\n",
    "for row in rows:\n",
    "    cols = row.find_all(\"td\")  # Extract all <td> elements (table columns) from the current row\n",
    "    \n",
    "    # Ensure we have at least 5 columns before processing\n",
    "    if len(cols) >= 5:\n",
    "        # Extract and clean each column value\n",
    "        month = cols[0].get_text(strip=True)\n",
    "        avg_monthly_players = cols[1].get_text(strip=True).replace(\",\", \"\")  # Remove commas\n",
    "        monthly_gain_loss = cols[2].get_text(strip=True).replace(\",\", \"\")\n",
    "        peak_players = cols[4].get_text(strip=True).replace(\",\", \"\")\n"
   ]
  },
  {
   "cell_type": "code",
   "execution_count": 11,
   "metadata": {},
   "outputs": [],
   "source": [
    "# Append the cleaned and converted data into the list as a dictionary\n",
    "data.append({\n",
    "    \"Month\": month,\n",
    "    \"Avg Monthly Players\": int(avg_monthly_players),         # Convert to int\n",
    "    \"Monthly Gain/Loss\": int(monthly_gain_loss),             \n",
    "    \"Peak Players\": int(peak_players)                        \n",
    "})\n"
   ]
  },
  {
   "cell_type": "code",
   "execution_count": 12,
   "metadata": {},
   "outputs": [],
   "source": [
    "# Transform the list of dictionaries into a pandas DataFrame\n",
    "df = pd.DataFrame(data)"
   ]
  },
  {
   "cell_type": "code",
   "execution_count": 13,
   "metadata": {},
   "outputs": [
    {
     "ename": "PermissionError",
     "evalue": "[Errno 13] Permission denied: 'activeplayer_lol_stats.csv'",
     "output_type": "error",
     "traceback": [
      "\u001b[1;31m---------------------------------------------------------------------------\u001b[0m",
      "\u001b[1;31mPermissionError\u001b[0m                           Traceback (most recent call last)",
      "Cell \u001b[1;32mIn[13], line 2\u001b[0m\n\u001b[0;32m      1\u001b[0m \u001b[38;5;66;03m# Save the DataFrame to a CSV file (this is the \"Load\" step in ETL)\u001b[39;00m\n\u001b[1;32m----> 2\u001b[0m df\u001b[38;5;241m.\u001b[39mto_csv(\u001b[38;5;124m\"\u001b[39m\u001b[38;5;124mactiveplayer_lol_stats.csv\u001b[39m\u001b[38;5;124m\"\u001b[39m, index\u001b[38;5;241m=\u001b[39m\u001b[38;5;28;01mFalse\u001b[39;00m)\n",
      "File \u001b[1;32mc:\\Users\\Yuzhu\\anaconda3\\Lib\\site-packages\\pandas\\util\\_decorators.py:333\u001b[0m, in \u001b[0;36mdeprecate_nonkeyword_arguments.<locals>.decorate.<locals>.wrapper\u001b[1;34m(*args, **kwargs)\u001b[0m\n\u001b[0;32m    327\u001b[0m \u001b[38;5;28;01mif\u001b[39;00m \u001b[38;5;28mlen\u001b[39m(args) \u001b[38;5;241m>\u001b[39m num_allow_args:\n\u001b[0;32m    328\u001b[0m     warnings\u001b[38;5;241m.\u001b[39mwarn(\n\u001b[0;32m    329\u001b[0m         msg\u001b[38;5;241m.\u001b[39mformat(arguments\u001b[38;5;241m=\u001b[39m_format_argument_list(allow_args)),\n\u001b[0;32m    330\u001b[0m         \u001b[38;5;167;01mFutureWarning\u001b[39;00m,\n\u001b[0;32m    331\u001b[0m         stacklevel\u001b[38;5;241m=\u001b[39mfind_stack_level(),\n\u001b[0;32m    332\u001b[0m     )\n\u001b[1;32m--> 333\u001b[0m \u001b[38;5;28;01mreturn\u001b[39;00m func(\u001b[38;5;241m*\u001b[39margs, \u001b[38;5;241m*\u001b[39m\u001b[38;5;241m*\u001b[39mkwargs)\n",
      "File \u001b[1;32mc:\\Users\\Yuzhu\\anaconda3\\Lib\\site-packages\\pandas\\core\\generic.py:3967\u001b[0m, in \u001b[0;36mNDFrame.to_csv\u001b[1;34m(self, path_or_buf, sep, na_rep, float_format, columns, header, index, index_label, mode, encoding, compression, quoting, quotechar, lineterminator, chunksize, date_format, doublequote, escapechar, decimal, errors, storage_options)\u001b[0m\n\u001b[0;32m   3956\u001b[0m df \u001b[38;5;241m=\u001b[39m \u001b[38;5;28mself\u001b[39m \u001b[38;5;28;01mif\u001b[39;00m \u001b[38;5;28misinstance\u001b[39m(\u001b[38;5;28mself\u001b[39m, ABCDataFrame) \u001b[38;5;28;01melse\u001b[39;00m \u001b[38;5;28mself\u001b[39m\u001b[38;5;241m.\u001b[39mto_frame()\n\u001b[0;32m   3958\u001b[0m formatter \u001b[38;5;241m=\u001b[39m DataFrameFormatter(\n\u001b[0;32m   3959\u001b[0m     frame\u001b[38;5;241m=\u001b[39mdf,\n\u001b[0;32m   3960\u001b[0m     header\u001b[38;5;241m=\u001b[39mheader,\n\u001b[1;32m   (...)\u001b[0m\n\u001b[0;32m   3964\u001b[0m     decimal\u001b[38;5;241m=\u001b[39mdecimal,\n\u001b[0;32m   3965\u001b[0m )\n\u001b[1;32m-> 3967\u001b[0m \u001b[38;5;28;01mreturn\u001b[39;00m DataFrameRenderer(formatter)\u001b[38;5;241m.\u001b[39mto_csv(\n\u001b[0;32m   3968\u001b[0m     path_or_buf,\n\u001b[0;32m   3969\u001b[0m     lineterminator\u001b[38;5;241m=\u001b[39mlineterminator,\n\u001b[0;32m   3970\u001b[0m     sep\u001b[38;5;241m=\u001b[39msep,\n\u001b[0;32m   3971\u001b[0m     encoding\u001b[38;5;241m=\u001b[39mencoding,\n\u001b[0;32m   3972\u001b[0m     errors\u001b[38;5;241m=\u001b[39merrors,\n\u001b[0;32m   3973\u001b[0m     compression\u001b[38;5;241m=\u001b[39mcompression,\n\u001b[0;32m   3974\u001b[0m     quoting\u001b[38;5;241m=\u001b[39mquoting,\n\u001b[0;32m   3975\u001b[0m     columns\u001b[38;5;241m=\u001b[39mcolumns,\n\u001b[0;32m   3976\u001b[0m     index_label\u001b[38;5;241m=\u001b[39mindex_label,\n\u001b[0;32m   3977\u001b[0m     mode\u001b[38;5;241m=\u001b[39mmode,\n\u001b[0;32m   3978\u001b[0m     chunksize\u001b[38;5;241m=\u001b[39mchunksize,\n\u001b[0;32m   3979\u001b[0m     quotechar\u001b[38;5;241m=\u001b[39mquotechar,\n\u001b[0;32m   3980\u001b[0m     date_format\u001b[38;5;241m=\u001b[39mdate_format,\n\u001b[0;32m   3981\u001b[0m     doublequote\u001b[38;5;241m=\u001b[39mdoublequote,\n\u001b[0;32m   3982\u001b[0m     escapechar\u001b[38;5;241m=\u001b[39mescapechar,\n\u001b[0;32m   3983\u001b[0m     storage_options\u001b[38;5;241m=\u001b[39mstorage_options,\n\u001b[0;32m   3984\u001b[0m )\n",
      "File \u001b[1;32mc:\\Users\\Yuzhu\\anaconda3\\Lib\\site-packages\\pandas\\io\\formats\\format.py:1014\u001b[0m, in \u001b[0;36mDataFrameRenderer.to_csv\u001b[1;34m(self, path_or_buf, encoding, sep, columns, index_label, mode, compression, quoting, quotechar, lineterminator, chunksize, date_format, doublequote, escapechar, errors, storage_options)\u001b[0m\n\u001b[0;32m    993\u001b[0m     created_buffer \u001b[38;5;241m=\u001b[39m \u001b[38;5;28;01mFalse\u001b[39;00m\n\u001b[0;32m    995\u001b[0m csv_formatter \u001b[38;5;241m=\u001b[39m CSVFormatter(\n\u001b[0;32m    996\u001b[0m     path_or_buf\u001b[38;5;241m=\u001b[39mpath_or_buf,\n\u001b[0;32m    997\u001b[0m     lineterminator\u001b[38;5;241m=\u001b[39mlineterminator,\n\u001b[1;32m   (...)\u001b[0m\n\u001b[0;32m   1012\u001b[0m     formatter\u001b[38;5;241m=\u001b[39m\u001b[38;5;28mself\u001b[39m\u001b[38;5;241m.\u001b[39mfmt,\n\u001b[0;32m   1013\u001b[0m )\n\u001b[1;32m-> 1014\u001b[0m csv_formatter\u001b[38;5;241m.\u001b[39msave()\n\u001b[0;32m   1016\u001b[0m \u001b[38;5;28;01mif\u001b[39;00m created_buffer:\n\u001b[0;32m   1017\u001b[0m     \u001b[38;5;28;01massert\u001b[39;00m \u001b[38;5;28misinstance\u001b[39m(path_or_buf, StringIO)\n",
      "File \u001b[1;32mc:\\Users\\Yuzhu\\anaconda3\\Lib\\site-packages\\pandas\\io\\formats\\csvs.py:251\u001b[0m, in \u001b[0;36mCSVFormatter.save\u001b[1;34m(self)\u001b[0m\n\u001b[0;32m    247\u001b[0m \u001b[38;5;250m\u001b[39m\u001b[38;5;124;03m\"\"\"\u001b[39;00m\n\u001b[0;32m    248\u001b[0m \u001b[38;5;124;03mCreate the writer & save.\u001b[39;00m\n\u001b[0;32m    249\u001b[0m \u001b[38;5;124;03m\"\"\"\u001b[39;00m\n\u001b[0;32m    250\u001b[0m \u001b[38;5;66;03m# apply compression and byte/text conversion\u001b[39;00m\n\u001b[1;32m--> 251\u001b[0m \u001b[38;5;28;01mwith\u001b[39;00m get_handle(\n\u001b[0;32m    252\u001b[0m     \u001b[38;5;28mself\u001b[39m\u001b[38;5;241m.\u001b[39mfilepath_or_buffer,\n\u001b[0;32m    253\u001b[0m     \u001b[38;5;28mself\u001b[39m\u001b[38;5;241m.\u001b[39mmode,\n\u001b[0;32m    254\u001b[0m     encoding\u001b[38;5;241m=\u001b[39m\u001b[38;5;28mself\u001b[39m\u001b[38;5;241m.\u001b[39mencoding,\n\u001b[0;32m    255\u001b[0m     errors\u001b[38;5;241m=\u001b[39m\u001b[38;5;28mself\u001b[39m\u001b[38;5;241m.\u001b[39merrors,\n\u001b[0;32m    256\u001b[0m     compression\u001b[38;5;241m=\u001b[39m\u001b[38;5;28mself\u001b[39m\u001b[38;5;241m.\u001b[39mcompression,\n\u001b[0;32m    257\u001b[0m     storage_options\u001b[38;5;241m=\u001b[39m\u001b[38;5;28mself\u001b[39m\u001b[38;5;241m.\u001b[39mstorage_options,\n\u001b[0;32m    258\u001b[0m ) \u001b[38;5;28;01mas\u001b[39;00m handles:\n\u001b[0;32m    259\u001b[0m     \u001b[38;5;66;03m# Note: self.encoding is irrelevant here\u001b[39;00m\n\u001b[0;32m    260\u001b[0m     \u001b[38;5;28mself\u001b[39m\u001b[38;5;241m.\u001b[39mwriter \u001b[38;5;241m=\u001b[39m csvlib\u001b[38;5;241m.\u001b[39mwriter(\n\u001b[0;32m    261\u001b[0m         handles\u001b[38;5;241m.\u001b[39mhandle,\n\u001b[0;32m    262\u001b[0m         lineterminator\u001b[38;5;241m=\u001b[39m\u001b[38;5;28mself\u001b[39m\u001b[38;5;241m.\u001b[39mlineterminator,\n\u001b[1;32m   (...)\u001b[0m\n\u001b[0;32m    267\u001b[0m         quotechar\u001b[38;5;241m=\u001b[39m\u001b[38;5;28mself\u001b[39m\u001b[38;5;241m.\u001b[39mquotechar,\n\u001b[0;32m    268\u001b[0m     )\n\u001b[0;32m    270\u001b[0m     \u001b[38;5;28mself\u001b[39m\u001b[38;5;241m.\u001b[39m_save()\n",
      "File \u001b[1;32mc:\\Users\\Yuzhu\\anaconda3\\Lib\\site-packages\\pandas\\io\\common.py:873\u001b[0m, in \u001b[0;36mget_handle\u001b[1;34m(path_or_buf, mode, encoding, compression, memory_map, is_text, errors, storage_options)\u001b[0m\n\u001b[0;32m    868\u001b[0m \u001b[38;5;28;01melif\u001b[39;00m \u001b[38;5;28misinstance\u001b[39m(handle, \u001b[38;5;28mstr\u001b[39m):\n\u001b[0;32m    869\u001b[0m     \u001b[38;5;66;03m# Check whether the filename is to be opened in binary mode.\u001b[39;00m\n\u001b[0;32m    870\u001b[0m     \u001b[38;5;66;03m# Binary mode does not support 'encoding' and 'newline'.\u001b[39;00m\n\u001b[0;32m    871\u001b[0m     \u001b[38;5;28;01mif\u001b[39;00m ioargs\u001b[38;5;241m.\u001b[39mencoding \u001b[38;5;129;01mand\u001b[39;00m \u001b[38;5;124m\"\u001b[39m\u001b[38;5;124mb\u001b[39m\u001b[38;5;124m\"\u001b[39m \u001b[38;5;129;01mnot\u001b[39;00m \u001b[38;5;129;01min\u001b[39;00m ioargs\u001b[38;5;241m.\u001b[39mmode:\n\u001b[0;32m    872\u001b[0m         \u001b[38;5;66;03m# Encoding\u001b[39;00m\n\u001b[1;32m--> 873\u001b[0m         handle \u001b[38;5;241m=\u001b[39m \u001b[38;5;28mopen\u001b[39m(\n\u001b[0;32m    874\u001b[0m             handle,\n\u001b[0;32m    875\u001b[0m             ioargs\u001b[38;5;241m.\u001b[39mmode,\n\u001b[0;32m    876\u001b[0m             encoding\u001b[38;5;241m=\u001b[39mioargs\u001b[38;5;241m.\u001b[39mencoding,\n\u001b[0;32m    877\u001b[0m             errors\u001b[38;5;241m=\u001b[39merrors,\n\u001b[0;32m    878\u001b[0m             newline\u001b[38;5;241m=\u001b[39m\u001b[38;5;124m\"\u001b[39m\u001b[38;5;124m\"\u001b[39m,\n\u001b[0;32m    879\u001b[0m         )\n\u001b[0;32m    880\u001b[0m     \u001b[38;5;28;01melse\u001b[39;00m:\n\u001b[0;32m    881\u001b[0m         \u001b[38;5;66;03m# Binary mode\u001b[39;00m\n\u001b[0;32m    882\u001b[0m         handle \u001b[38;5;241m=\u001b[39m \u001b[38;5;28mopen\u001b[39m(handle, ioargs\u001b[38;5;241m.\u001b[39mmode)\n",
      "\u001b[1;31mPermissionError\u001b[0m: [Errno 13] Permission denied: 'activeplayer_lol_stats.csv'"
     ]
    }
   ],
   "source": [
    "# Save the DataFrame to a CSV file (this is the \"Load\" step in ETL)\n",
    "df.to_csv(\"activeplayer_lol_stats.csv\", index=False)"
   ]
  },
  {
   "cell_type": "code",
   "execution_count": null,
   "metadata": {},
   "outputs": [
    {
     "data": {
      "text/plain": [
       "'c:\\\\Users\\\\Yuzhu\\\\OneDrive\\\\桌面\\\\SQL\\\\Project Information'"
      ]
     },
     "execution_count": 40,
     "metadata": {},
     "output_type": "execute_result"
    }
   ],
   "source": [
    "# check the file directory\n",
    "import os\n",
    "os.getcwd()"
   ]
  }
 ],
 "metadata": {
  "kernelspec": {
   "display_name": "base",
   "language": "python",
   "name": "python3"
  },
  "language_info": {
   "codemirror_mode": {
    "name": "ipython",
    "version": 3
   },
   "file_extension": ".py",
   "mimetype": "text/x-python",
   "name": "python",
   "nbconvert_exporter": "python",
   "pygments_lexer": "ipython3",
   "version": "3.12.7"
  }
 },
 "nbformat": 4,
 "nbformat_minor": 2
}
