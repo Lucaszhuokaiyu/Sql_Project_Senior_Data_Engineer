{
 "cells": [
  {
   "cell_type": "code",
   "execution_count": 1,
   "metadata": {},
   "outputs": [],
   "source": [
    "import requests\n",
    "import pandas as pd"
   ]
  },
  {
   "cell_type": "code",
   "execution_count": 2,
   "metadata": {},
   "outputs": [],
   "source": [
    "# Riot API base URL (I'll format tier and division into this URL)\n",
    "base_url = \"https://na1.api.riotgames.com/lol/league/v4/entries/RANKED_SOLO_5x5/{tier}/{division}?page=1\"\n"
   ]
  },
  {
   "cell_type": "code",
   "execution_count": 3,
   "metadata": {},
   "outputs": [],
   "source": [
    "# request for API\n",
    "response = requests.get(base_url)"
   ]
  },
  {
   "cell_type": "code",
   "execution_count": 4,
   "metadata": {},
   "outputs": [
    {
     "data": {
      "text/plain": [
       "<Response [401]>"
      ]
     },
     "execution_count": 4,
     "metadata": {},
     "output_type": "execute_result"
    }
   ],
   "source": [
    "response"
   ]
  },
  {
   "cell_type": "code",
   "execution_count": 5,
   "metadata": {},
   "outputs": [],
   "source": [
    "# Riot API key\n",
    "api_key = \"RGAPI-123caaf4-d694-46f5-8d63-e59476cffa01\""
   ]
  },
  {
   "cell_type": "code",
   "execution_count": 6,
   "metadata": {},
   "outputs": [],
   "source": [
    "# Authentication headers for the API call\n",
    "headers = {\n",
    "    \"X-Riot-Token\": api_key\n",
    "}"
   ]
  },
  {
   "cell_type": "code",
   "execution_count": 7,
   "metadata": {},
   "outputs": [],
   "source": [
    "# Define the tiers and divisions to extract\n",
    "tiers_to_extract = {\n",
    "    \"Iron\": [\"I\", \"II\", \"III\", \"IV\"],\n",
    "    \"Silver\": [\"I\", \"II\", \"III\", \"IV\"],\n",
    "    \"Gold\": [\"I\", \"II\", \"III\", \"IV\"]\n",
    "}"
   ]
  },
  {
   "cell_type": "code",
   "execution_count": 8,
   "metadata": {},
   "outputs": [],
   "source": [
    "# Dictionary to hold the DataFrame for each tier\n",
    "ranked_data = {}"
   ]
  },
  {
   "cell_type": "code",
   "execution_count": 9,
   "metadata": {},
   "outputs": [
    {
     "name": "stdout",
     "output_type": "stream",
     "text": [
      "✅ Retrieved 205 players from Iron I\n",
      "✅ Retrieved 205 players from Iron II\n",
      "✅ Retrieved 205 players from Iron III\n",
      "✅ Retrieved 205 players from Iron IV\n",
      "✅ Retrieved 205 players from Silver I\n",
      "✅ Retrieved 205 players from Silver II\n",
      "✅ Retrieved 205 players from Silver III\n",
      "✅ Retrieved 205 players from Silver IV\n",
      "✅ Retrieved 205 players from Gold I\n",
      "✅ Retrieved 205 players from Gold II\n",
      "✅ Retrieved 205 players from Gold III\n",
      "✅ Retrieved 205 players from Gold IV\n"
     ]
    }
   ],
   "source": [
    "# Loop through each tier and division to collect player data\n",
    "for tier, divisions in tiers_to_extract.items():\n",
    "    all_players = []  # Collect all players from this tier\n",
    "    for division in divisions:\n",
    "        url = base_url.format(tier=tier.upper(), division=division)\n",
    "        response = requests.get(url, headers=headers)\n",
    "        if response.status_code == 200:\n",
    "            players = response.json()\n",
    "            # Add tier and division metadata to each player entry\n",
    "            for player in players:\n",
    "                player[\"Tier\"] = tier\n",
    "                player[\"Division\"] = division\n",
    "                all_players.append(player)\n",
    "            print(f\"✅ Retrieved {len(players)} players from {tier} {division}\")\n",
    "        else:\n",
    "            print(f\"❌ Failed to fetch data for {tier} {division} (status {response.status_code})\")"
   ]
  },
  {
   "cell_type": "code",
   "execution_count": 10,
   "metadata": {},
   "outputs": [],
   "source": [
    "# Convert collected player records into a DataFrame\n",
    "df = pd.DataFrame(all_players)\n",
    "ranked_data[tier] = df"
   ]
  },
  {
   "cell_type": "code",
   "execution_count": 11,
   "metadata": {},
   "outputs": [
    {
     "name": "stdout",
     "output_type": "stream",
     "text": [
      "Saved 820 players to gold_ranked_players.csv\n"
     ]
    }
   ],
   "source": [
    "# Save each tier's DataFrame into its own CSV file\n",
    "for tier, df in ranked_data.items():\n",
    "    filename = f\"{tier.lower()}_ranked_players.csv\"\n",
    "    df.to_csv(filename, index=False)\n",
    "    print(f\"Saved {len(df)} players to {filename}\")"
   ]
  },
  {
   "cell_type": "code",
   "execution_count": 12,
   "metadata": {},
   "outputs": [
    {
     "data": {
      "text/plain": [
       "'c:\\\\Users\\\\Yuzhu\\\\OneDrive\\\\桌面\\\\SQL\\\\Project Information'"
      ]
     },
     "execution_count": 12,
     "metadata": {},
     "output_type": "execute_result"
    }
   ],
   "source": [
    "import os\n",
    "os.getcwd()"
   ]
  }
 ],
 "metadata": {
  "kernelspec": {
   "display_name": "base",
   "language": "python",
   "name": "python3"
  },
  "language_info": {
   "codemirror_mode": {
    "name": "ipython",
    "version": 3
   },
   "file_extension": ".py",
   "mimetype": "text/x-python",
   "name": "python",
   "nbconvert_exporter": "python",
   "pygments_lexer": "ipython3",
   "version": "3.12.7"
  }
 },
 "nbformat": 4,
 "nbformat_minor": 2
}
