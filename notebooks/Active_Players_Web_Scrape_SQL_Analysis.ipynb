{
 "cells": [
  {
   "cell_type": "code",
   "execution_count": 4,
   "id": "86cc3b7c",
   "metadata": {},
   "outputs": [
    {
     "data": {
      "text/html": [
       "<div>\n",
       "<style scoped>\n",
       "    .dataframe tbody tr th:only-of-type {\n",
       "        vertical-align: middle;\n",
       "    }\n",
       "\n",
       "    .dataframe tbody tr th {\n",
       "        vertical-align: top;\n",
       "    }\n",
       "\n",
       "    .dataframe thead th {\n",
       "        text-align: right;\n",
       "    }\n",
       "</style>\n",
       "<table border=\"1\" class=\"dataframe\">\n",
       "  <thead>\n",
       "    <tr style=\"text-align: right;\">\n",
       "      <th></th>\n",
       "      <th>count</th>\n",
       "    </tr>\n",
       "  </thead>\n",
       "  <tbody>\n",
       "    <tr>\n",
       "      <th>0</th>\n",
       "      <td>65</td>\n",
       "    </tr>\n",
       "  </tbody>\n",
       "</table>\n",
       "</div>"
      ],
      "text/plain": [
       "   count\n",
       "0     65"
      ]
     },
     "execution_count": 4,
     "metadata": {},
     "output_type": "execute_result"
    }
   ],
   "source": [
    "import os\n",
    "from sqlalchemy import create_engine\n",
    "import pandas as pd\n",
    "\n",
    "# Set credentials \n",
    "os.environ['PG_HOST'] = 'isba-dev-02.cmb4w8cmqb26.us-east-1.rds.amazonaws.com'\n",
    "os.environ['PG_USER'] = 'postgres'\n",
    "os.environ['PG_PASSWORD'] = 'isba_4715'\n",
    "os.environ['PG_DB'] = 'data_engineer_project'\n",
    "\n",
    "host = os.getenv('PG_HOST')\n",
    "user = os.getenv('PG_USER')\n",
    "password = os.getenv('PG_PASSWORD')\n",
    "database = os.getenv('PG_DB')\n",
    "\n",
    "connection_string = f\"postgresql+psycopg2://{user}:{password}@{host}/{database}\"\n",
    "engine = create_engine(connection_string)\n",
    "pd.set_option('display.max_rows', None)\n",
    "\n",
    "test_query = '''\n",
    "SELECT COUNT(*) FROM raw.\"Active_Players\"\n",
    "limit 10;\n",
    "'''\n",
    "pd.read_sql(test_query, engine)"
   ]
  },
  {
   "cell_type": "markdown",
   "id": "cc284c76",
   "metadata": {},
   "source": [
    "# Descriptive Business Question: Does League of Legends have more players now compared to 2020?"
   ]
  },
  {
   "cell_type": "code",
   "execution_count": 5,
   "id": "f2e68856",
   "metadata": {},
   "outputs": [
    {
     "data": {
      "text/html": [
       "<div>\n",
       "<style scoped>\n",
       "    .dataframe tbody tr th:only-of-type {\n",
       "        vertical-align: middle;\n",
       "    }\n",
       "\n",
       "    .dataframe tbody tr th {\n",
       "        vertical-align: top;\n",
       "    }\n",
       "\n",
       "    .dataframe thead th {\n",
       "        text-align: right;\n",
       "    }\n",
       "</style>\n",
       "<table border=\"1\" class=\"dataframe\">\n",
       "  <thead>\n",
       "    <tr style=\"text-align: right;\">\n",
       "      <th></th>\n",
       "      <th>period</th>\n",
       "      <th>avg_players</th>\n",
       "      <th>avg_peak_players</th>\n",
       "    </tr>\n",
       "  </thead>\n",
       "  <tbody>\n",
       "    <tr>\n",
       "      <th>0</th>\n",
       "      <td>2020</td>\n",
       "      <td>48900955.0</td>\n",
       "      <td>9943194.0</td>\n",
       "    </tr>\n",
       "    <tr>\n",
       "      <th>1</th>\n",
       "      <td>Now</td>\n",
       "      <td>47592416.0</td>\n",
       "      <td>10063837.0</td>\n",
       "    </tr>\n",
       "  </tbody>\n",
       "</table>\n",
       "</div>"
      ],
      "text/plain": [
       "  period  avg_players  avg_peak_players\n",
       "0   2020   48900955.0         9943194.0\n",
       "1    Now   47592416.0        10063837.0"
      ]
     },
     "execution_count": 5,
     "metadata": {},
     "output_type": "execute_result"
    }
   ],
   "source": [
    "sql_query = \"\"\"\n",
    "WITH filtered AS (\n",
    "    SELECT \n",
    "        \"Month\",\n",
    "        \"Avg Monthly Players\",\n",
    "        \"Peak Players\",\n",
    "        CASE \n",
    "            WHEN \"Month\" IN ('20-Jan', '20-Feb', '20-Mar', '20-Apr', '20-May', '20-Jun',\n",
    "                             '20-Jul', '20-Aug', '20-Sep', '20-Oct', '20-Nov', '20-Dec')\n",
    "                THEN '2020'\n",
    "            WHEN \"Month\" IN ('24-Jan', '24-Feb', '24-Mar', '24-Apr', '24-May', '24-Jun',\n",
    "                             '24-Jul', '24-Aug', '24-Sep', '24-Oct', '24-Nov', '24-Dec',\n",
    "                             '25-Jan', '25-Feb', '25-Mar', 'Last 30 Days')\n",
    "                THEN 'Now'\n",
    "            ELSE 'Other'\n",
    "        END AS period\n",
    "    FROM raw.\"Active_Players\"\n",
    ")\n",
    "SELECT \n",
    "    period,\n",
    "    ROUND(AVG(\"Avg Monthly Players\")::numeric) AS avg_players,\n",
    "    ROUND(AVG(\"Peak Players\")::numeric) AS avg_peak_players\n",
    "FROM filtered\n",
    "WHERE period IN ('2020', 'Now')\n",
    "GROUP BY period\n",
    "ORDER BY period;\n",
    "\"\"\"\n",
    "\n",
    "\n",
    "# Execute\n",
    "query_result = pd.read_sql(sql_query, engine)\n",
    "query_result"
   ]
  },
  {
   "cell_type": "markdown",
   "id": "66050dc3",
   "metadata": {},
   "source": [
    "# Insight\n",
    "1. League of Legends has a slightly smaller player base, ↓ ~1.3 million fewer players per month now compared to 2020\n",
    "2. However, peak players counts are slightly higher, ↑ ~120,000 more peak players"
   ]
  },
  {
   "cell_type": "markdown",
   "id": "a4608e9e",
   "metadata": {},
   "source": [
    "# Recommendation\n",
    "1. Investigate what drives peak activity in recent months, since 2025 is only about half way through. The peak\n",
    "might have to do with events or updates, seasonal spikes and so on. \n",
    "2. Think of ways to extend engagement beyond peaks, like retention events. "
   ]
  },
  {
   "cell_type": "markdown",
   "id": "09cc19a5",
   "metadata": {},
   "source": [
    "# Prediction\n",
    "1. If the pattern continues, the player base may be shifting from a steady engagement to spike-driven activity. "
   ]
  },
  {
   "cell_type": "markdown",
   "id": "5a9e5df3",
   "metadata": {},
   "source": [
    "# Diagnostic Business Question: Has player engagement become more burst-like over time? (We define this by tracking the ratio of average monthly players to peak players.)"
   ]
  },
  {
   "cell_type": "code",
   "execution_count": 7,
   "id": "b595706a",
   "metadata": {},
   "outputs": [
    {
     "data": {
      "text/html": [
       "<div>\n",
       "<style scoped>\n",
       "    .dataframe tbody tr th:only-of-type {\n",
       "        vertical-align: middle;\n",
       "    }\n",
       "\n",
       "    .dataframe tbody tr th {\n",
       "        vertical-align: top;\n",
       "    }\n",
       "\n",
       "    .dataframe thead th {\n",
       "        text-align: right;\n",
       "    }\n",
       "</style>\n",
       "<table border=\"1\" class=\"dataframe\">\n",
       "  <thead>\n",
       "    <tr style=\"text-align: right;\">\n",
       "      <th></th>\n",
       "      <th>Month</th>\n",
       "      <th>avg_to_peak_ratio</th>\n",
       "    </tr>\n",
       "  </thead>\n",
       "  <tbody>\n",
       "    <tr>\n",
       "      <th>0</th>\n",
       "      <td>20-Apr</td>\n",
       "      <td>4.92</td>\n",
       "    </tr>\n",
       "    <tr>\n",
       "      <th>1</th>\n",
       "      <td>Last 30 Days</td>\n",
       "      <td>3.70</td>\n",
       "    </tr>\n",
       "  </tbody>\n",
       "</table>\n",
       "</div>"
      ],
      "text/plain": [
       "          Month  avg_to_peak_ratio\n",
       "0        20-Apr               4.92\n",
       "1  Last 30 Days               3.70"
      ]
     },
     "execution_count": 7,
     "metadata": {},
     "output_type": "execute_result"
    }
   ],
   "source": [
    "sql_query = \"\"\"\n",
    "WITH ranked_months AS (\n",
    "    SELECT \n",
    "        \"Month\",\n",
    "        \"Avg Monthly Players\",\n",
    "        \"Peak Players\",\n",
    "        ROUND(\"Avg Monthly Players\"::numeric / NULLIF(\"Peak Players\", 0), 2) AS avg_to_peak_ratio,\n",
    "        ROW_NUMBER() OVER (ORDER BY \"Month\") AS rn_asc,\n",
    "        ROW_NUMBER() OVER (ORDER BY \"Month\" DESC) AS rn_desc\n",
    "    FROM raw.\"Active_Players\"\n",
    ")\n",
    "SELECT \"Month\", avg_to_peak_ratio\n",
    "FROM ranked_months\n",
    "WHERE rn_asc = 1 OR rn_desc = 1\n",
    "ORDER BY \"Month\";\n",
    "\"\"\"\n",
    "\n",
    "# Execute\n",
    "query_result = pd.read_sql(sql_query, engine)\n",
    "query_result"
   ]
  },
  {
   "cell_type": "markdown",
   "id": "b581874f",
   "metadata": {},
   "source": [
    "# Insight\n",
    "1. average to peak ratio dropped from 4.92 in April 2020 to 3.70 in the last 30 days\n",
    "2. Players are now showing up in shorter, high-concentration sessions rather than playing consistently across the month"
   ]
  },
  {
   "cell_type": "markdown",
   "id": "9e14655e",
   "metadata": {},
   "source": [
    "# Recommendation \n",
    " Support the peak-time events, and also think of ways to raie baseline engagement. "
   ]
  },
  {
   "cell_type": "markdown",
   "id": "753794b8",
   "metadata": {},
   "source": [
    "# Prediction \n",
    "If this trend continues, future engagement will be even more event-driven, \n",
    "and success will depend more on the quality and timing of content drops but not long-term play cycles."
   ]
  }
 ],
 "metadata": {
  "kernelspec": {
   "display_name": "Python 3",
   "language": "python",
   "name": "python3"
  },
  "language_info": {
   "codemirror_mode": {
    "name": "ipython",
    "version": 3
   },
   "file_extension": ".py",
   "mimetype": "text/x-python",
   "name": "python",
   "nbconvert_exporter": "python",
   "pygments_lexer": "ipython3",
   "version": "3.12.1"
  }
 },
 "nbformat": 4,
 "nbformat_minor": 5
}
