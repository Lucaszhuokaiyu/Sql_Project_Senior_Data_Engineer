{
 "cells": [
  {
   "cell_type": "code",
   "execution_count": null,
   "id": "ed018cc4",
   "metadata": {},
   "outputs": [],
   "source": []
  },
  {
   "cell_type": "code",
   "execution_count": null,
   "id": "1ad7d0f7",
   "metadata": {},
   "outputs": [],
   "source": [
    "import pandas as pd\n",
    "from sqlalchemy import create_engine"
   ]
  },
  {
   "cell_type": "code",
   "execution_count": null,
   "id": "5fa7de44",
   "metadata": {},
   "outputs": [],
   "source": [
    "# MySQL database connection detail\n",
    "mysql_user = 'admin'\n",
    "mysql_password = 'isba_4715'\n",
    "mysql_host = 'isba-dev-01.cmb4w8cmqb26.us-east-1.rds.amazonaws.com'\n",
    "mysql_db = 'Data_Engineer_Project'\n",
    "\n",
    "# Postgres database connection detail\n",
    "pg_user = 'postgres'\n",
    "pg_password = 'isba_4715'\n",
    "pg_host = 'isba-dev-02.cmb4w8cmqb26.us-east-1.rds.amazonaws.com'\n",
    "pg_db = 'data_engineer_project'"
   ]
  },
  {
   "cell_type": "code",
   "execution_count": null,
   "id": "46ba9316",
   "metadata": {
    "lines_to_next_cell": 0
   },
   "outputs": [],
   "source": [
    "# Build connection strings\n",
    "mysql_conn_str = f'mysql+pymysql://{mysql_user}:{mysql_password}@{mysql_host}/{mysql_db}'\n",
    "pg_conn_str = f'postgresql+psycopg2://{pg_user}:{pg_password}@{pg_host}/{pg_db}'"
   ]
  },
  {
   "cell_type": "code",
   "execution_count": null,
   "id": "07b9ef9a",
   "metadata": {
    "lines_to_next_cell": 0
   },
   "outputs": [],
   "source": [
    "# Create database engines\n",
    "mysql_engine = create_engine(mysql_conn_str)\n",
    "pg_engine = create_engine(pg_conn_str)"
   ]
  },
  {
   "cell_type": "code",
   "execution_count": null,
   "id": "644cc309",
   "metadata": {
    "lines_to_next_cell": 0
   },
   "outputs": [],
   "source": [
    "# Read Active_Players table from MySQL and load into a DataFrame\n",
    "df = pd.read_sql('SELECT * FROM Active_Players', mysql_engine)"
   ]
  },
  {
   "cell_type": "code",
   "execution_count": null,
   "id": "8bcd1267",
   "metadata": {
    "lines_to_next_cell": 0
   },
   "outputs": [],
   "source": [
    "# Write DataFrame to data_engineer_project table in postgres\n",
    "df.to_sql('Active_Players', pg_engine, schema = 'raw', if_exists='replace', index=False)"
   ]
  },
  {
   "cell_type": "code",
   "execution_count": null,
   "id": "634b7836",
   "metadata": {
    "lines_to_next_cell": 0
   },
   "outputs": [],
   "source": [
    "print(f'{len(df)} records loaded into postgres data_engineer_project table')"
   ]
  },
  {
   "cell_type": "code",
   "execution_count": null,
   "id": "6da6c47d",
   "metadata": {
    "lines_to_next_cell": 0
   },
   "outputs": [],
   "source": [
    "df"
   ]
  },
  {
   "cell_type": "code",
   "execution_count": null,
   "id": "748c28c7",
   "metadata": {},
   "outputs": [],
   "source": []
  }
 ],
 "metadata": {
  "jupytext": {
   "cell_metadata_filter": "-all",
   "main_language": "python",
   "notebook_metadata_filter": "-all"
  }
 },
 "nbformat": 4,
 "nbformat_minor": 5
}
