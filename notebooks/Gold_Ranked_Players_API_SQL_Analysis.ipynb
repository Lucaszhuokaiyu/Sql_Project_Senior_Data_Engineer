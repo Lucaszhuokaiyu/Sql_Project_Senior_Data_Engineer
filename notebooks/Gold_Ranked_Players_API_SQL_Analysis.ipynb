{
 "cells": [
  {
   "cell_type": "code",
   "execution_count": 1,
   "id": "09c16f96",
   "metadata": {},
   "outputs": [
    {
     "data": {
      "text/html": [
       "<div>\n",
       "<style scoped>\n",
       "    .dataframe tbody tr th:only-of-type {\n",
       "        vertical-align: middle;\n",
       "    }\n",
       "\n",
       "    .dataframe tbody tr th {\n",
       "        vertical-align: top;\n",
       "    }\n",
       "\n",
       "    .dataframe thead th {\n",
       "        text-align: right;\n",
       "    }\n",
       "</style>\n",
       "<table border=\"1\" class=\"dataframe\">\n",
       "  <thead>\n",
       "    <tr style=\"text-align: right;\">\n",
       "      <th></th>\n",
       "      <th>count</th>\n",
       "    </tr>\n",
       "  </thead>\n",
       "  <tbody>\n",
       "    <tr>\n",
       "      <th>0</th>\n",
       "      <td>820</td>\n",
       "    </tr>\n",
       "  </tbody>\n",
       "</table>\n",
       "</div>"
      ],
      "text/plain": [
       "   count\n",
       "0    820"
      ]
     },
     "execution_count": 1,
     "metadata": {},
     "output_type": "execute_result"
    }
   ],
   "source": [
    "import os\n",
    "from sqlalchemy import create_engine\n",
    "import pandas as pd\n",
    "\n",
    "# Set credentials \n",
    "os.environ['PG_HOST'] = 'isba-dev-02.cmb4w8cmqb26.us-east-1.rds.amazonaws.com'\n",
    "os.environ['PG_USER'] = 'postgres'\n",
    "os.environ['PG_PASSWORD'] = 'isba_4715'\n",
    "os.environ['PG_DB'] = 'data_engineer_project'\n",
    "\n",
    "host = os.getenv('PG_HOST')\n",
    "user = os.getenv('PG_USER')\n",
    "password = os.getenv('PG_PASSWORD')\n",
    "database = os.getenv('PG_DB')\n",
    "\n",
    "connection_string = f\"postgresql+psycopg2://{user}:{password}@{host}/{database}\"\n",
    "engine = create_engine(connection_string)\n",
    "pd.set_option('display.max_rows', None)\n",
    "\n",
    "test_query = '''\n",
    "SELECT COUNT(*) FROM raw.\"Gold_Ranked_Players\"\n",
    "limit 10;\n",
    "'''\n",
    "pd.read_sql(test_query, engine)"
   ]
  },
  {
   "cell_type": "markdown",
   "id": "ad0fcaf2",
   "metadata": {},
   "source": [
    "# Descriptive Business Question: Is there a significant win/loss ratio gap between new players and experienced players?"
   ]
  },
  {
   "cell_type": "code",
   "execution_count": 2,
   "id": "b83f3afe",
   "metadata": {},
   "outputs": [
    {
     "data": {
      "text/html": [
       "<div>\n",
       "<style scoped>\n",
       "    .dataframe tbody tr th:only-of-type {\n",
       "        vertical-align: middle;\n",
       "    }\n",
       "\n",
       "    .dataframe tbody tr th {\n",
       "        vertical-align: top;\n",
       "    }\n",
       "\n",
       "    .dataframe thead th {\n",
       "        text-align: right;\n",
       "    }\n",
       "</style>\n",
       "<table border=\"1\" class=\"dataframe\">\n",
       "  <thead>\n",
       "    <tr style=\"text-align: right;\">\n",
       "      <th></th>\n",
       "      <th>player_type</th>\n",
       "      <th>player_count</th>\n",
       "      <th>win_loss_ratio</th>\n",
       "    </tr>\n",
       "  </thead>\n",
       "  <tbody>\n",
       "    <tr>\n",
       "      <th>0</th>\n",
       "      <td>Experienced Player</td>\n",
       "      <td>760</td>\n",
       "      <td>1.04</td>\n",
       "    </tr>\n",
       "    <tr>\n",
       "      <th>1</th>\n",
       "      <td>New Player</td>\n",
       "      <td>60</td>\n",
       "      <td>1.02</td>\n",
       "    </tr>\n",
       "  </tbody>\n",
       "</table>\n",
       "</div>"
      ],
      "text/plain": [
       "          player_type  player_count  win_loss_ratio\n",
       "0  Experienced Player           760            1.04\n",
       "1          New Player            60            1.02"
      ]
     },
     "execution_count": 2,
     "metadata": {},
     "output_type": "execute_result"
    }
   ],
   "source": [
    "sql_query = '''\n",
    "WITH player_types AS (\n",
    "    SELECT\n",
    "        CASE\n",
    "            WHEN \"freshBlood\" = 'TRUE' THEN 'New Player'\n",
    "            ELSE 'Experienced Player'\n",
    "        END AS player_type,\n",
    "        wins,\n",
    "        losses\n",
    "    FROM raw.\"Gold_Ranked_Players\"\n",
    ")\n",
    "SELECT\n",
    "    player_type,\n",
    "    COUNT(*) AS player_count,\n",
    "    ROUND(AVG(wins)::numeric / NULLIF(AVG(losses), 0), 2) AS win_loss_ratio\n",
    "FROM player_types\n",
    "GROUP BY player_type\n",
    "ORDER BY player_type;\n",
    "'''\n",
    "\n",
    "\n",
    "# Execute\n",
    "query_result = pd.read_sql(sql_query, engine)\n",
    "query_result"
   ]
  },
  {
   "cell_type": "markdown",
   "id": "5e383c20",
   "metadata": {},
   "source": [
    "# Insights: \n",
    "1. New players (freshBlood = TRUE) had a win/loss ratio of 1.02\n",
    "2. Experienced players had a slightly higher ratio of 1.04\n",
    "3. Despite having significantly less players,new players are not at a major disadvantage competitively. \n",
    "4. Indication of skill-based matchmaking, new players will not lose more just because they lack game experience. "
   ]
  },
  {
   "cell_type": "markdown",
   "id": "a67eaf86",
   "metadata": {},
   "source": [
    "# Recommendations\n",
    "Since new players are doing just fine, this is a great chance to keep them motivated. \n",
    "Try to reach them and optimize their experience"
   ]
  },
  {
   "cell_type": "markdown",
   "id": "ba9b0e08",
   "metadata": {},
   "source": [
    "# Prediction\n",
    "If new players continue to get support early on, they will likely improve even faster and keep playing, \n",
    "helping to grow the player base long term."
   ]
  },
  {
   "cell_type": "markdown",
   "id": "676d57eb",
   "metadata": {},
   "source": [
    "# Diagnostic Business Quesion: How do new players on a hot streak compare to other new players in terms of performance, and what key differences stand out?"
   ]
  },
  {
   "cell_type": "code",
   "execution_count": null,
   "id": "dc5eb12e",
   "metadata": {},
   "outputs": [
    {
     "data": {
      "text/html": [
       "<div>\n",
       "<style scoped>\n",
       "    .dataframe tbody tr th:only-of-type {\n",
       "        vertical-align: middle;\n",
       "    }\n",
       "\n",
       "    .dataframe tbody tr th {\n",
       "        vertical-align: top;\n",
       "    }\n",
       "\n",
       "    .dataframe thead th {\n",
       "        text-align: right;\n",
       "    }\n",
       "</style>\n",
       "<table border=\"1\" class=\"dataframe\">\n",
       "  <thead>\n",
       "    <tr style=\"text-align: right;\">\n",
       "      <th></th>\n",
       "      <th>hotStreak</th>\n",
       "      <th>player_count</th>\n",
       "      <th>avg_win_loss_ratio</th>\n",
       "    </tr>\n",
       "  </thead>\n",
       "  <tbody>\n",
       "    <tr>\n",
       "      <th>0</th>\n",
       "      <td>TRUE</td>\n",
       "      <td>13</td>\n",
       "      <td>2.39</td>\n",
       "    </tr>\n",
       "    <tr>\n",
       "      <th>1</th>\n",
       "      <td>FALSE</td>\n",
       "      <td>47</td>\n",
       "      <td>0.99</td>\n",
       "    </tr>\n",
       "  </tbody>\n",
       "</table>\n",
       "</div>"
      ],
      "text/plain": [
       "  hotStreak  player_count  avg_win_loss_ratio\n",
       "0      TRUE            13                2.39\n",
       "1     FALSE            47                0.99"
      ]
     },
     "execution_count": 5,
     "metadata": {},
     "output_type": "execute_result"
    }
   ],
   "source": [
    "sql_query = '''\n",
    "WITH new_players AS (\n",
    "    SELECT \n",
    "        \"hotStreak\",\n",
    "        wins,\n",
    "        losses,\n",
    "        ROW_NUMBER() OVER (PARTITION BY \"hotStreak\" ORDER BY wins DESC) AS rn\n",
    "    FROM raw.\"Gold_Ranked_Players\"\n",
    "    WHERE \"freshBlood\" = 'TRUE'\n",
    "),\n",
    "joined_players AS (\n",
    "    SELECT a.\"hotStreak\", a.wins, a.losses\n",
    "    FROM new_players a\n",
    "    JOIN (SELECT 1 AS dummy) b ON 1 = 1\n",
    ")\n",
    "SELECT \n",
    "    \"hotStreak\",\n",
    "    COUNT(*) AS player_count,\n",
    "    ROUND(AVG(wins::numeric / NULLIF(losses, 0)), 2) AS avg_win_loss_ratio\n",
    "FROM joined_players\n",
    "GROUP BY \"hotStreak\"\n",
    "ORDER BY \"hotStreak\" DESC;\n",
    "'''\n",
    "\n",
    "\n",
    "# Execute\n",
    "query_result = pd.read_sql(sql_query, engine)\n",
    "query_result"
   ]
  },
  {
   "cell_type": "markdown",
   "id": "f99da5b3",
   "metadata": {},
   "source": [
    "# Insights\n",
    "1.  13 out of 60 (≈22%) are flagged as on a hot streak\n",
    "2. These players perform significantly better, with a more than double average win/loss ratio than other new players"
   ]
  },
  {
   "cell_type": "markdown",
   "id": "359dad0c",
   "metadata": {},
   "source": [
    "# Recommendation\n",
    "Target hot streak players with early positive reinforcement, provide incentives to keep their momentum."
   ]
  },
  {
   "cell_type": "markdown",
   "id": "1a93aeae",
   "metadata": {},
   "source": [
    "# Prediction\n",
    "This could improve player retention and overall new player satisfaction, a higher conversion rate from new to experienced players"
   ]
  }
 ],
 "metadata": {
  "kernelspec": {
   "display_name": "Python 3",
   "language": "python",
   "name": "python3"
  },
  "language_info": {
   "codemirror_mode": {
    "name": "ipython",
    "version": 3
   },
   "file_extension": ".py",
   "mimetype": "text/x-python",
   "name": "python",
   "nbconvert_exporter": "python",
   "pygments_lexer": "ipython3",
   "version": "3.12.1"
  }
 },
 "nbformat": 4,
 "nbformat_minor": 5
}
