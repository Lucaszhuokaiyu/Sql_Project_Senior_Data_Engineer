{
 "cells": [
  {
   "cell_type": "code",
   "execution_count": null,
   "id": "5e42d582",
   "metadata": {},
   "outputs": [],
   "source": [
    "import pandas as pd\n",
    "from sqlalchemy import create_engine"
   ]
  },
  {
   "cell_type": "code",
   "execution_count": null,
   "id": "0546849a",
   "metadata": {},
   "outputs": [],
   "source": [
    "# MySQL database connection detail\n",
    "mysql_user = 'admin'\n",
    "mysql_password = 'isba_4715'\n",
    "mysql_host = 'isba-dev-01.cmb4w8cmqb26.us-east-1.rds.amazonaws.com'\n",
    "mysql_db = 'Data_Engineer_Project'\n",
    "\n",
    "# Postgres database connection detail\n",
    "pg_user = 'postgres'\n",
    "pg_password = 'isba_4715'\n",
    "pg_host = 'isba-dev-02.cmb4w8cmqb26.us-east-1.rds.amazonaws.com'\n",
    "pg_db = 'data_engineer_project'"
   ]
  },
  {
   "cell_type": "code",
   "execution_count": null,
   "id": "30f63942",
   "metadata": {
    "lines_to_next_cell": 0
   },
   "outputs": [],
   "source": [
    "# Build connection strings\n",
    "mysql_conn_str = f'mysql+pymysql://{mysql_user}:{mysql_password}@{mysql_host}/{mysql_db}'\n",
    "pg_conn_str = f'postgresql+psycopg2://{pg_user}:{pg_password}@{pg_host}/{pg_db}'"
   ]
  },
  {
   "cell_type": "code",
   "execution_count": null,
   "id": "453b141e",
   "metadata": {
    "lines_to_next_cell": 0
   },
   "outputs": [],
   "source": [
    "# Create database engines\n",
    "mysql_engine = create_engine(mysql_conn_str)\n",
    "pg_engine = create_engine(pg_conn_str)"
   ]
  },
  {
   "cell_type": "code",
   "execution_count": null,
   "id": "7c059035",
   "metadata": {
    "lines_to_next_cell": 0
   },
   "outputs": [],
   "source": [
    "# Read Gold_Ranked_Players table from MySQL and load into a DataFrame\n",
    "df = pd.read_sql('SELECT * FROM Gold_Ranked_Players', mysql_engine)"
   ]
  },
  {
   "cell_type": "code",
   "execution_count": null,
   "id": "a10d34ec",
   "metadata": {
    "lines_to_next_cell": 0
   },
   "outputs": [],
   "source": [
    "# Write DataFrame to data_engineer_project table in postgres\n",
    "df.to_sql('Gold_Ranked_Players', pg_engine, schema = 'raw', if_exists='replace', index=False)"
   ]
  },
  {
   "cell_type": "code",
   "execution_count": null,
   "id": "11330600",
   "metadata": {
    "lines_to_next_cell": 0
   },
   "outputs": [],
   "source": [
    "print(f'{len(df)} records loaded into postgres data_engineer_project table')"
   ]
  },
  {
   "cell_type": "code",
   "execution_count": null,
   "id": "3b2658a1",
   "metadata": {},
   "outputs": [],
   "source": [
    "df"
   ]
  }
 ],
 "metadata": {
  "jupytext": {
   "cell_metadata_filter": "-all",
   "main_language": "python",
   "notebook_metadata_filter": "-all"
  },
  "kernelspec": {
   "display_name": "Python 3",
   "language": "python",
   "name": "python3"
  }
 },
 "nbformat": 4,
 "nbformat_minor": 5
}
